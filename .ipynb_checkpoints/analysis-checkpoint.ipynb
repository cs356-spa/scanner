{
 "cells": [
  {
   "cell_type": "code",
   "execution_count": 6,
   "metadata": {},
   "outputs": [
    {
     "name": "stdout",
     "output_type": "stream",
     "text": [
      "--2020-11-10 15:11:46--  https://worksheets.codalab.org/rest/bundles/0x27d8fe6289a4423596805969ac884f2d/contents/blob/output.json\n",
      "Resolving worksheets.codalab.org (worksheets.codalab.org)... 40.114.41.203\n",
      "Connecting to worksheets.codalab.org (worksheets.codalab.org)|40.114.41.203|:443... connected.\n",
      "HTTP request sent, awaiting response... 200 OK\n",
      "Syntax error in Set-Cookie: codalab_session=\"\"; expires=Thu, 01 Jan 1970 00:00:00 GMT; Max-Age=-1; Path=/ at position 70.\n",
      "Length: unspecified [application/json]\n",
      "Saving to: ‘src/output.json’\n",
      "\n",
      "src/output.json         [ <=>                ]  14.95K  --.-KB/s    in 0s      \n",
      "\n",
      "2020-11-10 15:11:46 (49.2 MB/s) - ‘src/output.json’ saved [15311]\n",
      "\n"
     ]
    }
   ],
   "source": [
    "!wget https://worksheets.codalab.org/rest/bundles/0x27d8fe6289a4423596805969ac884f2d/contents/blob/output.json -O src/output.json"
   ]
  },
  {
   "cell_type": "code",
   "execution_count": 8,
   "metadata": {},
   "outputs": [
    {
     "name": "stdout",
     "output_type": "stream",
     "text": [
      "\n",
      "> scanner@1.0.0 aggregate /Users/epicfaace/oss/scanner\n",
      "> ts-node src/aggregate.ts\n",
      "\n",
      "[\n",
      "  { version: \u001b[32m'total'\u001b[39m, count: \u001b[33m11\u001b[39m },\n",
      "  { version: \u001b[32m'undefined'\u001b[39m, count: \u001b[33m4\u001b[39m },\n",
      "  { version: \u001b[32m'16.13.1'\u001b[39m, count: \u001b[33m2\u001b[39m },\n",
      "  { version: \u001b[32m'16.7.0'\u001b[39m, count: \u001b[33m1\u001b[39m },\n",
      "  { version: \u001b[32m'17.0.1'\u001b[39m, count: \u001b[33m1\u001b[39m },\n",
      "  { version: \u001b[32m'16.10.2'\u001b[39m, count: \u001b[33m1\u001b[39m },\n",
      "  { version: \u001b[32m'16.14.0'\u001b[39m, count: \u001b[33m1\u001b[39m },\n",
      "  { version: \u001b[32m'15.4.0'\u001b[39m, count: \u001b[33m1\u001b[39m }\n",
      "]\n"
     ]
    }
   ],
   "source": [
    "!npm run aggregate"
   ]
  },
  {
   "cell_type": "code",
   "execution_count": 4,
   "metadata": {},
   "outputs": [
    {
     "name": "stdout",
     "output_type": "stream",
     "text": [
      "Collecting pandas\n",
      "  Downloading pandas-1.1.4-cp39-cp39-macosx_10_9_x86_64.whl (10.3 MB)\n",
      "\u001b[K     |████████████████████████████████| 10.3 MB 2.5 MB/s eta 0:00:01\n",
      "\u001b[?25hCollecting matplotlib\n",
      "  Downloading matplotlib-3.3.2.tar.gz (37.9 MB)\n",
      "\u001b[K     |████████████████████████████████| 37.9 MB 53.2 MB/s eta 0:00:01     |████████████████████████▌       | 29.1 MB 53.2 MB/s eta 0:00:01\n",
      "\u001b[?25hCollecting pytz>=2017.2\n",
      "  Using cached pytz-2020.4-py2.py3-none-any.whl (509 kB)\n",
      "Collecting numpy>=1.15.4\n",
      "  Using cached numpy-1.19.4-cp39-cp39-macosx_10_9_x86_64.whl (15.4 MB)\n",
      "Requirement already satisfied: python-dateutil>=2.7.3 in /Users/epicfaace/.pyenv/versions/3.9.0/lib/python3.9/site-packages (from pandas) (2.8.1)\n",
      "Requirement already satisfied: certifi>=2020.06.20 in /Users/epicfaace/.pyenv/versions/3.9.0/lib/python3.9/site-packages (from matplotlib) (2020.6.20)\n",
      "Collecting cycler>=0.10\n",
      "  Using cached cycler-0.10.0-py2.py3-none-any.whl (6.5 kB)\n",
      "Collecting kiwisolver>=1.0.1\n",
      "  Downloading kiwisolver-1.3.1-cp39-cp39-macosx_10_9_x86_64.whl (61 kB)\n",
      "\u001b[K     |████████████████████████████████| 61 kB 1.5 MB/s  eta 0:00:01\n",
      "\u001b[?25hCollecting pillow>=6.2.0\n",
      "  Downloading Pillow-8.0.1-cp39-cp39-macosx_10_10_x86_64.whl (2.2 MB)\n",
      "\u001b[K     |████████████████████████████████| 2.2 MB 18.1 MB/s eta 0:00:01\n",
      "\u001b[?25hRequirement already satisfied: pyparsing!=2.0.4,!=2.1.2,!=2.1.6,>=2.0.3 in /Users/epicfaace/.pyenv/versions/3.9.0/lib/python3.9/site-packages (from matplotlib) (2.4.7)\n",
      "Requirement already satisfied: six>=1.5 in /Users/epicfaace/.pyenv/versions/3.9.0/lib/python3.9/site-packages (from python-dateutil>=2.7.3->pandas) (1.15.0)\n",
      "Using legacy 'setup.py install' for matplotlib, since package 'wheel' is not installed.\n",
      "Installing collected packages: pytz, numpy, pandas, cycler, kiwisolver, pillow, matplotlib\n",
      "    Running setup.py install for matplotlib ... \u001b[?25ldone\n",
      "\u001b[?25hSuccessfully installed cycler-0.10.0 kiwisolver-1.3.1 matplotlib-3.3.2 numpy-1.19.4 pandas-1.1.4 pillow-8.0.1 pytz-2020.4\n",
      "\u001b[33mWARNING: You are using pip version 20.2.3; however, version 20.2.4 is available.\n",
      "You should consider upgrading via the '/Users/epicfaace/.pyenv/versions/3.9.0/bin/python3.9 -m pip install --upgrade pip' command.\u001b[0m\n"
     ]
    }
   ],
   "source": [
    "!pip3 install pandas matplotlib"
   ]
  },
  {
   "cell_type": "code",
   "execution_count": null,
   "metadata": {},
   "outputs": [],
   "source": []
  }
 ],
 "metadata": {
  "kernelspec": {
   "display_name": "Python 3",
   "language": "python",
   "name": "python3"
  },
  "language_info": {
   "codemirror_mode": {
    "name": "ipython",
    "version": 3
   },
   "file_extension": ".py",
   "mimetype": "text/x-python",
   "name": "python",
   "nbconvert_exporter": "python",
   "pygments_lexer": "ipython3",
   "version": "3.9.0"
  }
 },
 "nbformat": 4,
 "nbformat_minor": 4
}

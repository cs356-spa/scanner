{
 "cells": [
  {
   "cell_type": "code",
   "execution_count": 6,
   "metadata": {},
   "outputs": [
    {
     "name": "stdout",
     "output_type": "stream",
     "text": [
      "--2020-11-10 15:11:46--  https://worksheets.codalab.org/rest/bundles/0x27d8fe6289a4423596805969ac884f2d/contents/blob/output.json\n",
      "Resolving worksheets.codalab.org (worksheets.codalab.org)... 40.114.41.203\n",
      "Connecting to worksheets.codalab.org (worksheets.codalab.org)|40.114.41.203|:443... connected.\n",
      "HTTP request sent, awaiting response... 200 OK\n",
      "Syntax error in Set-Cookie: codalab_session=\"\"; expires=Thu, 01 Jan 1970 00:00:00 GMT; Max-Age=-1; Path=/ at position 70.\n",
      "Length: unspecified [application/json]\n",
      "Saving to: ‘src/output.json’\n",
      "\n",
      "src/output.json         [ <=>                ]  14.95K  --.-KB/s    in 0s      \n",
      "\n",
      "2020-11-10 15:11:46 (49.2 MB/s) - ‘src/output.json’ saved [15311]\n",
      "\n"
     ]
    }
   ],
   "source": [
    "!wget https://worksheets.codalab.org/rest/bundles/0x27d8fe6289a4423596805969ac884f2d/contents/blob/output.json -O src/output.json"
   ]
  },
  {
   "cell_type": "code",
   "execution_count": 8,
   "metadata": {},
   "outputs": [
    {
     "name": "stdout",
     "output_type": "stream",
     "text": [
      "\n",
      "> scanner@1.0.0 aggregate /Users/epicfaace/oss/scanner\n",
      "> ts-node src/aggregate.ts\n",
      "\n",
      "[\n",
      "  { version: \u001b[32m'total'\u001b[39m, count: \u001b[33m11\u001b[39m },\n",
      "  { version: \u001b[32m'undefined'\u001b[39m, count: \u001b[33m4\u001b[39m },\n",
      "  { version: \u001b[32m'16.13.1'\u001b[39m, count: \u001b[33m2\u001b[39m },\n",
      "  { version: \u001b[32m'16.7.0'\u001b[39m, count: \u001b[33m1\u001b[39m },\n",
      "  { version: \u001b[32m'17.0.1'\u001b[39m, count: \u001b[33m1\u001b[39m },\n",
      "  { version: \u001b[32m'16.10.2'\u001b[39m, count: \u001b[33m1\u001b[39m },\n",
      "  { version: \u001b[32m'16.14.0'\u001b[39m, count: \u001b[33m1\u001b[39m },\n",
      "  { version: \u001b[32m'15.4.0'\u001b[39m, count: \u001b[33m1\u001b[39m }\n",
      "]\n"
     ]
    }
   ],
   "source": [
    "!npm run aggregate"
   ]
  },
  {
   "cell_type": "code",
   "execution_count": 15,
   "metadata": {},
   "outputs": [
    {
     "data": {
      "text/plain": [
       "{'totalDomains': 97,\n",
       " 'domainsNoneDetected': 56,\n",
       " 'domainsDetected': 41,\n",
       " 'packageTotals': {'jquery': 26, 'react': 11, 'core-js': 19, 'axios': 2},\n",
       " 'packages': {'jquery': {'2.1.1': 2,\n",
       "   '1.11.0': 6,\n",
       "   '3.5.0': 1,\n",
       "   '3.0.0': 2,\n",
       "   '1.11.2': 7,\n",
       "   '1.11.1': 1,\n",
       "   '1.8.2': 1,\n",
       "   '2.1.2': 5,\n",
       "   '1.5.1': 1},\n",
       "  'react': {'16.7.0': 1,\n",
       "   '16.13.1': 2,\n",
       "   'undefined': 4,\n",
       "   '17.0.1': 1,\n",
       "   '16.10.2': 1,\n",
       "   '16.14.0': 1,\n",
       "   '15.4.0': 1},\n",
       "  'core-js': {'2.6.4': 5,\n",
       "   '3.6.2': 7,\n",
       "   '3.3.4': 1,\n",
       "   '3.1.4': 1,\n",
       "   '2.5.6': 2,\n",
       "   '2.6.0': 1,\n",
       "   '2.1.0': 1,\n",
       "   '2.5.0': 1},\n",
       "  'axios': {'0.15.0': 1, '0.8.0': 1}}}"
      ]
     },
     "execution_count": 15,
     "metadata": {},
     "output_type": "execute_result"
    }
   ],
   "source": [
    "import pandas as pd\n",
    "import json\n",
    "\n",
    "with open(\"src/stats.json\") as f:\n",
    "    stats = json.load(f)\n",
    "    \n",
    "stats"
   ]
  },
  {
   "cell_type": "code",
   "execution_count": null,
   "metadata": {},
   "outputs": [],
   "source": [
    "import matplotlib.pyplot as plt\n",
    "\n",
    "# Pie chart, where the slices will be ordered and plotted counter-clockwise:\n",
    "labels = 'Packages detected', 'Connection failed', 'No packages detected'\n",
    "sizes = [stats[\"domainsDetected\"] - stats[\"domainsNoneDetected\"], 100 - stats[\"domainsDetected\"], stats[\"domainsNoneDetected\"]]\n",
    "explode = (0, 0, 0, 0)\n",
    "\n",
    "fig1, ax1 = plt.subplots()\n",
    "ax1.pie(sizes, explode=explode, labels=labels, autopct='%1.1f%%',\n",
    "        shadow=True, startangle=90)\n",
    "ax1.axis('equal')\n",
    "\n",
    "plt.show()"
   ]
  }
 ],
 "metadata": {
  "kernelspec": {
   "display_name": "Python 3",
   "language": "python",
   "name": "python3"
  },
  "language_info": {
   "codemirror_mode": {
    "name": "ipython",
    "version": 3
   },
   "file_extension": ".py",
   "mimetype": "text/x-python",
   "name": "python",
   "nbconvert_exporter": "python",
   "pygments_lexer": "ipython3",
   "version": "3.9.0"
  }
 },
 "nbformat": 4,
 "nbformat_minor": 4
}
